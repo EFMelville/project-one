{
 "cells": [
  {
   "cell_type": "code",
   "execution_count": 1,
   "id": "cc916204",
   "metadata": {},
   "outputs": [],
   "source": [
    "%matplotlib notebook"
   ]
  },
  {
   "cell_type": "code",
   "execution_count": 2,
   "id": "2b38bef9",
   "metadata": {},
   "outputs": [],
   "source": [
    "# Dependencies.\n",
    "import pandas as pd\n",
    "from pathlib import Path\n",
    "import matplotlib.pyplot as plt\n",
    "import scipy.stats as st\n",
    "import numpy as np"
   ]
  },
  {
   "cell_type": "code",
   "execution_count": 3,
   "id": "4be9a5e5",
   "metadata": {},
   "outputs": [],
   "source": [
    "csv_path = Path(\"Data_Ref_2022.csv\")"
   ]
  },
  {
   "cell_type": "code",
   "execution_count": 5,
   "id": "fa8af578",
   "metadata": {},
   "outputs": [
    {
     "name": "stderr",
     "output_type": "stream",
     "text": [
<<<<<<< HEAD
      "C:\\Users\\EFMel\\AppData\\Local\\Temp\\ipykernel_4444\\1950897195.py:1: DtypeWarning: Columns (1) have mixed types. Specify dtype option on import or set low_memory=False.\n",
=======
      "/var/folders/hr/lxsvmc995x71v3dn86jfn9jr0000gn/T/ipykernel_20797/3426181666.py:1: DtypeWarning: Columns (1) have mixed types. Specify dtype option on import or set low_memory=False.\n",
>>>>>>> origin/ray
      "  CD = pd.read_csv(csv_path)\n"
     ]
    },
    {
     "data": {
      "text/html": [
       "<div>\n",
       "<style scoped>\n",
       "    .dataframe tbody tr th:only-of-type {\n",
       "        vertical-align: middle;\n",
       "    }\n",
       "\n",
       "    .dataframe tbody tr th {\n",
       "        vertical-align: top;\n",
       "    }\n",
       "\n",
       "    .dataframe thead th {\n",
       "        text-align: right;\n",
       "    }\n",
       "</style>\n",
       "<table border=\"1\" class=\"dataframe\">\n",
       "  <thead>\n",
       "    <tr style=\"text-align: right;\">\n",
       "      <th></th>\n",
       "      <th>incident_id</th>\n",
       "      <th>arrest_date</th>\n",
       "      <th>offense_id</th>\n",
       "      <th>offense_code_y</th>\n",
       "      <th>location_id</th>\n",
       "      <th>offender_id</th>\n",
       "      <th>sex_code_y</th>\n",
       "      <th>race_id_y</th>\n",
       "      <th>ethnicity_id_y</th>\n",
       "      <th>offense_type</th>\n",
       "      <th>location_name</th>\n",
       "      <th>race</th>\n",
       "      <th>ethnicity</th>\n",
       "    </tr>\n",
       "  </thead>\n",
       "  <tbody>\n",
       "    <tr>\n",
       "      <th>0</th>\n",
       "      <td>147462560</td>\n",
       "      <td>2022-01-10</td>\n",
       "      <td>176908831</td>\n",
       "      <td>280</td>\n",
       "      <td>35</td>\n",
       "      <td>167494978</td>\n",
       "      <td>M</td>\n",
       "      <td>10</td>\n",
       "      <td>20</td>\n",
       "      <td>Stolen Property Offenses</td>\n",
       "      <td>Residence/Home</td>\n",
       "      <td>White</td>\n",
       "      <td>Not Hispanic or Latino</td>\n",
       "    </tr>\n",
       "    <tr>\n",
       "      <th>1</th>\n",
       "      <td>159675946</td>\n",
       "      <td>2022-03-19</td>\n",
       "      <td>190927721</td>\n",
       "      <td>220</td>\n",
       "      <td>32</td>\n",
       "      <td>181318718</td>\n",
       "      <td>M</td>\n",
       "      <td>10</td>\n",
       "      <td>20</td>\n",
       "      <td>Burglary/Breaking &amp; Entering</td>\n",
       "      <td>Park/Playground</td>\n",
       "      <td>White</td>\n",
       "      <td>Not Hispanic or Latino</td>\n",
       "    </tr>\n",
       "    <tr>\n",
       "      <th>2</th>\n",
       "      <td>159675946</td>\n",
       "      <td>2022-03-19</td>\n",
       "      <td>190927721</td>\n",
       "      <td>220</td>\n",
       "      <td>32</td>\n",
       "      <td>181318721</td>\n",
       "      <td>M</td>\n",
       "      <td>10</td>\n",
       "      <td>20</td>\n",
       "      <td>Burglary/Breaking &amp; Entering</td>\n",
       "      <td>Park/Playground</td>\n",
       "      <td>White</td>\n",
       "      <td>Not Hispanic or Latino</td>\n",
       "    </tr>\n",
       "    <tr>\n",
       "      <th>3</th>\n",
       "      <td>159675946</td>\n",
       "      <td>2022-06-21</td>\n",
       "      <td>190927721</td>\n",
       "      <td>220</td>\n",
       "      <td>32</td>\n",
       "      <td>181318718</td>\n",
       "      <td>M</td>\n",
       "      <td>10</td>\n",
       "      <td>20</td>\n",
       "      <td>Burglary/Breaking &amp; Entering</td>\n",
       "      <td>Park/Playground</td>\n",
       "      <td>White</td>\n",
       "      <td>Not Hispanic or Latino</td>\n",
       "    </tr>\n",
       "    <tr>\n",
       "      <th>4</th>\n",
       "      <td>159675946</td>\n",
       "      <td>2022-06-21</td>\n",
       "      <td>190927721</td>\n",
       "      <td>220</td>\n",
       "      <td>32</td>\n",
       "      <td>181318721</td>\n",
       "      <td>M</td>\n",
       "      <td>10</td>\n",
       "      <td>20</td>\n",
       "      <td>Burglary/Breaking &amp; Entering</td>\n",
       "      <td>Park/Playground</td>\n",
       "      <td>White</td>\n",
       "      <td>Not Hispanic or Latino</td>\n",
       "    </tr>\n",
       "  </tbody>\n",
       "</table>\n",
       "</div>"
      ],
      "text/plain": [
       "   incident_id arrest_date  offense_id offense_code_y  location_id  \\\n",
       "0    147462560  2022-01-10   176908831            280           35   \n",
       "1    159675946  2022-03-19   190927721            220           32   \n",
       "2    159675946  2022-03-19   190927721            220           32   \n",
       "3    159675946  2022-06-21   190927721            220           32   \n",
       "4    159675946  2022-06-21   190927721            220           32   \n",
       "\n",
       "   offender_id sex_code_y  race_id_y  ethnicity_id_y  \\\n",
       "0    167494978          M         10              20   \n",
       "1    181318718          M         10              20   \n",
       "2    181318721          M         10              20   \n",
       "3    181318718          M         10              20   \n",
       "4    181318721          M         10              20   \n",
       "\n",
       "                   offense_type    location_name   race  \\\n",
       "0      Stolen Property Offenses   Residence/Home  White   \n",
       "1  Burglary/Breaking & Entering  Park/Playground  White   \n",
       "2  Burglary/Breaking & Entering  Park/Playground  White   \n",
       "3  Burglary/Breaking & Entering  Park/Playground  White   \n",
       "4  Burglary/Breaking & Entering  Park/Playground  White   \n",
       "\n",
       "                ethnicity  \n",
       "0  Not Hispanic or Latino  \n",
       "1  Not Hispanic or Latino  \n",
       "2  Not Hispanic or Latino  \n",
       "3  Not Hispanic or Latino  \n",
       "4  Not Hispanic or Latino  "
      ]
     },
     "execution_count": 5,
     "metadata": {},
     "output_type": "execute_result"
    }
   ],
   "source": [
    "CD = pd.read_csv(csv_path)\n",
    "CD.head()"
   ]
  },
  {
   "cell_type": "code",
   "execution_count": 5,
   "id": "c5ca2a7f",
   "metadata": {},
   "outputs": [
    {
     "data": {
      "text/plain": [
       "402260"
      ]
     },
     "execution_count": 5,
     "metadata": {},
     "output_type": "execute_result"
    }
   ],
   "source": [
    "# Isolate number of unique incident ID's for reference.\n",
    "Incidents_2022 = len(CD[\"incident_id\"].unique())\n",
    "Incidents_2022"
   ]
  },
  {
   "cell_type": "code",
   "execution_count": 6,
   "id": "d70ff293",
   "metadata": {},
   "outputs": [
    {
     "data": {
      "text/plain": [
       "467550"
      ]
     },
     "execution_count": 6,
     "metadata": {},
     "output_type": "execute_result"
    }
   ],
   "source": [
    "Offenses_2022 = len(CD[\"offense_id\"].unique())\n",
    "Offenses_2022"
   ]
  },
  {
   "cell_type": "code",
   "execution_count": 7,
   "id": "277d9a9f",
   "metadata": {},
   "outputs": [
    {
     "data": {
      "text/plain": [
       "race\n",
       "White                                        243526\n",
       "Black or African American                    203507\n",
       "Not Specified                                101653\n",
       "Unknown                                       60545\n",
       "Asian                                          1673\n",
       "American Indian or Alaska Native                724\n",
       "Native Hawaiian or Other Pacific Islander       526\n",
       "Name: count, dtype: int64"
      ]
     },
     "execution_count": 7,
     "metadata": {},
     "output_type": "execute_result"
    }
   ],
   "source": [
    "Race_2022 = CD[\"race\"].value_counts()\n",
    "Race_2022"
   ]
  },
  {
   "cell_type": "code",
   "execution_count": 8,
   "id": "7ad0322d",
   "metadata": {},
   "outputs": [
    {
     "data": {
      "text/plain": [
       "sex_code_y\n",
       "M    320550\n",
       "F    138032\n",
       "X    101653\n",
       "U     51919\n",
       "Name: count, dtype: int64"
      ]
     },
     "execution_count": 8,
     "metadata": {},
     "output_type": "execute_result"
    }
   ],
   "source": [
    "Sex_2022 = CD[\"sex_code_y\"].value_counts()\n",
    "Sex_2022"
   ]
  },
  {
   "cell_type": "code",
   "execution_count": 9,
   "id": "2fd019f9",
   "metadata": {},
   "outputs": [
    {
     "data": {
      "text/plain": [
       "location_name\n",
       "Residence/Home                                   235126\n",
       "Highway/Road/Alley/Street/Sidewalk               108745\n",
       "Parking/Drop Lot/Garage                           73621\n",
       "Department/Discount Store                         31910\n",
       "Other/Unknown                                     20938\n",
       "Convenience Store                                 19705\n",
       "School-Elementary/Secondary                       14821\n",
       "Hotel/Motel/Etc.                                  12966\n",
       "Specialty Store                                   11132\n",
       "Grocery/Supermarket                               10426\n",
       "Restaurant                                         9507\n",
       "Commercial/Office Building                         7985\n",
       "Service/Gas Station                                6272\n",
       "Bank/Savings and Loan                              5750\n",
       "Drug Store/Doctor's Office/Hospital                4830\n",
       "Park/Playground                                    4021\n",
       "Bar/Nightclub                                      4012\n",
       "Jail/Prison/Penitentiary/Corrections Facility      3878\n",
       "Government/Public Building                         2707\n",
       "Rental Storage Facility                            2698\n",
       "Auto Dealership New/Used                           2371\n",
       "Field/Woods                                        2238\n",
       "Construction Site                                  2232\n",
       "Shopping Mall                                      2074\n",
       "Church/Synagogue/Temple/Mosque                     2040\n",
       "Air/Bus/Train Terminal                             1408\n",
       "School-College/University                          1349\n",
       "Liquor Store                                       1248\n",
       "Industrial Site                                     939\n",
       "Community Center                                    659\n",
       "Camp/Campground                                     599\n",
       "Dock/Wharf/Freight/Modal Terminal                   501\n",
       "Abandoned/Condemned Structure                       494\n",
       "Shelter-Mission/Homeless                            463\n",
       "Arena/Stadium/Fairgrounds/Coliseum                  426\n",
       "Lake/Waterway/Beach                                 391\n",
       "ATM Separate from Bank                              376\n",
       "Amusement Park                                      370\n",
       "Farm Facility                                       360\n",
       "Daycare Facility                                    236\n",
       "Rest Area                                           189\n",
       "School/College                                      113\n",
       "Military Installation                                11\n",
       "Tribal Lands                                         10\n",
       "Gambling Facility/Casino/Race Track                   7\n",
       "Name: count, dtype: int64"
      ]
     },
     "execution_count": 9,
     "metadata": {},
     "output_type": "execute_result"
    }
   ],
   "source": [
    "Location_2022 = CD[\"location_name\"].value_counts()\n",
    "Location_2022"
   ]
  },
  {
   "cell_type": "code",
   "execution_count": 10,
   "id": "cf8a4ae6",
   "metadata": {},
   "outputs": [
    {
     "data": {
      "text/plain": [
       "offense_type\n",
       "Larceny/Theft Offenses                      139520\n",
       "Assault Offenses                            135111\n",
       "Drug/Narcotic Offenses                      129188\n",
       "Destruction/Damage/Vandalism of Property     52722\n",
       "Motor Vehicle Theft                          31341\n",
       "Fraud Offenses                               31230\n",
       "Weapon Law Violations                        27829\n",
       "Burglary/Breaking & Entering                 27391\n",
       "Robbery                                       9008\n",
       "Counterfeiting/Forgery                        7068\n",
       "Sex Offenses                                  5774\n",
       "Stolen Property Offenses                      4704\n",
       "Embezzlement                                  2391\n",
       "Kidnapping/Abduction                          2048\n",
       "Pornography/Obscene Material                  1430\n",
       "Arson                                         1009\n",
       "Extortion/Blackmail                            948\n",
       "Homicide Offenses                              912\n",
       "Animal Cruelty                                 829\n",
       "Prostitution Offenses                          670\n",
       "Gambling Offenses                              562\n",
       "Sex Offenses, Non-forcible                     323\n",
       "Human Trafficking                              104\n",
       "Bribery                                         42\n",
       "Name: count, dtype: int64"
      ]
     },
     "execution_count": 10,
     "metadata": {},
     "output_type": "execute_result"
    }
   ],
   "source": [
    "Offense_Type_2022 = CD[\"offense_type\"].value_counts()\n",
    "Offense_Type_2022"
   ]
  },
  {
   "cell_type": "code",
   "execution_count": null,
   "id": "967ac8ec",
   "metadata": {},
   "outputs": [],
   "source": []
  }
 ],
 "metadata": {
  "kernelspec": {
   "display_name": "Python 3 (ipykernel)",
   "language": "python",
   "name": "python3"
  },
  "language_info": {
   "codemirror_mode": {
    "name": "ipython",
    "version": 3
   },
   "file_extension": ".py",
   "mimetype": "text/x-python",
   "name": "python",
   "nbconvert_exporter": "python",
   "pygments_lexer": "ipython3",
   "version": "3.10.13"
  }
 },
 "nbformat": 4,
 "nbformat_minor": 5
}
