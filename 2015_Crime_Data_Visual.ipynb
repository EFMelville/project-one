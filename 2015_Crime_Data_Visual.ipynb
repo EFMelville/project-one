{
 "cells": [
  {
   "cell_type": "code",
   "execution_count": 1,
   "id": "cc916204",
   "metadata": {},
   "outputs": [],
   "source": [
    "%matplotlib notebook"
   ]
  },
  {
   "cell_type": "code",
   "execution_count": 2,
   "id": "2b38bef9",
   "metadata": {},
   "outputs": [],
   "source": [
    "# Dependencies.\n",
    "import pandas as pd\n",
    "from pathlib import Path\n",
    "import matplotlib.pyplot as plt\n",
    "import scipy.stats as st\n",
    "import numpy as np"
   ]
  },
  {
   "cell_type": "code",
   "execution_count": 3,
   "id": "4be9a5e5",
   "metadata": {},
   "outputs": [],
   "source": [
    "csv_path = Path(\"Data_Ref_2015.csv\")"
   ]
  },
  {
   "cell_type": "code",
   "execution_count": 4,
   "id": "fa8af578",
   "metadata": {},
   "outputs": [],
   "source": [
    "CD = pd.read_csv(csv_path)"
   ]
  },
  {
   "cell_type": "code",
   "execution_count": 5,
   "id": "c5ca2a7f",
   "metadata": {},
   "outputs": [
    {
     "data": {
      "text/plain": [
       "457238"
      ]
     },
     "execution_count": 5,
     "metadata": {},
     "output_type": "execute_result"
    }
   ],
   "source": [
    "# Isolate number of unique incident ID's for reference.\n",
    "Incidents_2015 = len(CD[\"incident_id\"].unique())\n",
    "Incidents_2015"
   ]
  },
  {
   "cell_type": "code",
   "execution_count": 6,
   "id": "d70ff293",
   "metadata": {},
   "outputs": [
    {
     "data": {
      "text/plain": [
       "510923"
      ]
     },
     "execution_count": 6,
     "metadata": {},
     "output_type": "execute_result"
    }
   ],
   "source": [
    "Offenses_2015 = len(CD[\"offense_id\"].unique())\n",
    "Offenses_2015"
   ]
  },
  {
   "cell_type": "code",
   "execution_count": 7,
   "id": "277d9a9f",
   "metadata": {},
   "outputs": [
    {
     "data": {
      "text/plain": [
       "race\n",
       "White                                        309963\n",
       "Black or African American                    220494\n",
       "Unknown                                      174195\n",
       "Asian                                          2804\n",
       "American Indian or Alaska Native                633\n",
       "Native Hawaiian or Other Pacific Islander       205\n",
       "Name: count, dtype: int64"
      ]
     },
     "execution_count": 7,
     "metadata": {},
     "output_type": "execute_result"
    }
   ],
   "source": [
    "Race_2015 = CD[\"race\"].value_counts()\n",
    "Race_2015"
   ]
  },
  {
   "cell_type": "code",
   "execution_count": 8,
   "id": "7ad0322d",
   "metadata": {},
   "outputs": [
    {
     "data": {
      "text/plain": [
       "sex_code_y\n",
       "M    374854\n",
       "F    167089\n",
       "U     71190\n",
       "Name: count, dtype: int64"
      ]
     },
     "execution_count": 8,
     "metadata": {},
     "output_type": "execute_result"
    }
   ],
   "source": [
    "Sex_2015 = CD[\"sex_code_y\"].value_counts()\n",
    "Sex_2015"
   ]
  },
  {
   "cell_type": "code",
   "execution_count": 9,
   "id": "2fd019f9",
   "metadata": {},
   "outputs": [
    {
     "data": {
      "text/plain": [
       "location_name\n",
       "Residence/Home                         314460\n",
       "Highway/Road/Ally                      108379\n",
       "Parking Lot/Garage                      66804\n",
       "Department/Discount Store               53863\n",
       "Convenience Store                       18303\n",
       "Other/Unknown                           17943\n",
       "Hotel/Motel/Etc.                        14679\n",
       "Grocery/Supermarket                     13006\n",
       "School-Elementary/Secondary             11948\n",
       "Specialty Store                         10767\n",
       "Restaurant                               9784\n",
       "Commercial/Office Building               8617\n",
       "Drug Store/Dr. s Office/Hospital         6265\n",
       "Bank/Savings and Loan                    6200\n",
       "Service/Gas Station                      5634\n",
       "Park/Playground                          4926\n",
       "Government/Public Building               4590\n",
       "Jail/Prison                              4519\n",
       "Bar/Nightclub                            3896\n",
       "Field/Woods                              3649\n",
       "Church Synagogue/Temple                  2356\n",
       "School-College/University                1998\n",
       "Rental Stor. Facil.                      1898\n",
       "Construction Site                        1732\n",
       "Auto Dealership New/Used                 1688\n",
       "Shopping Mall                            1547\n",
       "Air/Bus/Train Terminal                    951\n",
       "Abandoned/Condemned Structure             945\n",
       "Liquor Store                              922\n",
       "Gambling Facility/Casino/Race Track       850\n",
       "Lake/Waterway                             799\n",
       "Industrial Site                           765\n",
       "Farm Facility                             626\n",
       "Camp/Campground                           600\n",
       "ATM Separate from Bank                    565\n",
       "Arena/Stadium/Fairgrounds/Coliseum        465\n",
       "Daycare Facility                          389\n",
       "Dock/Wharf/Freight/Modal Terminal         328\n",
       "Shelter-Mission/Homeless                  228\n",
       "Community Center                          175\n",
       "Amusement Park                            132\n",
       "Rest Area                                  78\n",
       "Military Installation                      21\n",
       "Tribal Lands                                4\n",
       "Name: count, dtype: int64"
      ]
     },
     "execution_count": 9,
     "metadata": {},
     "output_type": "execute_result"
    }
   ],
   "source": [
    "Location_2015 = CD[\"location_name\"].value_counts()\n",
    "Location_2015"
   ]
  },
  {
   "cell_type": "code",
   "execution_count": 10,
   "id": "cf8a4ae6",
   "metadata": {},
   "outputs": [
    {
     "data": {
      "text/plain": [
       "offense_type\n",
       "Larceny/Theft Offenses                      176087\n",
       "Assault Offenses                            151863\n",
       "Drug/Narcotic Offenses                      149155\n",
       "Destruction/Damage/Vandalism of Property     62541\n",
       "Burglary/Breaking & Entering                 54426\n",
       "Fraud Offenses                               34423\n",
       "Weapon Law Violations                        17889\n",
       "Motor Vehicle Theft                          15759\n",
       "Robbery                                      15421\n",
       "Counterfeiting/Forgery                        9574\n",
       "Sex Offenses                                  6228\n",
       "Embezzlement                                  3445\n",
       "Kidnapping/Abduction                          2313\n",
       "Prostitution Offenses                         2209\n",
       "Stolen Property Offenses                      2044\n",
       "Gambling Offenses                             1485\n",
       "Arson                                         1355\n",
       "Pornography/Obscene Material                   982\n",
       "Homicide Offenses                              830\n",
       "Extortion/Blackmail                            177\n",
       "Human Trafficking                               63\n",
       "Bribery                                         25\n",
       "Name: count, dtype: int64"
      ]
     },
     "execution_count": 10,
     "metadata": {},
     "output_type": "execute_result"
    }
   ],
   "source": [
    "Offense_Type_2015 = CD[\"offense_type\"].value_counts()\n",
    "Offense_Type_2015"
   ]
  },
  {
   "cell_type": "code",
   "execution_count": null,
   "id": "e32992fd",
   "metadata": {},
   "outputs": [],
   "source": []
  },
  {
   "cell_type": "code",
   "execution_count": null,
   "id": "967ac8ec",
   "metadata": {},
   "outputs": [],
   "source": []
  }
 ],
 "metadata": {
  "kernelspec": {
   "display_name": "Python 3 (ipykernel)",
   "language": "python",
   "name": "python3"
  },
  "language_info": {
   "codemirror_mode": {
    "name": "ipython",
    "version": 3
   },
   "file_extension": ".py",
   "mimetype": "text/x-python",
   "name": "python",
   "nbconvert_exporter": "python",
   "pygments_lexer": "ipython3",
   "version": "3.10.13"
  }
 },
 "nbformat": 4,
 "nbformat_minor": 5
}
