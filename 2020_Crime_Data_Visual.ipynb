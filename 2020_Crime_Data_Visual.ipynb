{
 "cells": [
  {
   "cell_type": "code",
   "execution_count": 1,
   "id": "cc916204",
   "metadata": {},
   "outputs": [],
   "source": [
    "%matplotlib notebook"
   ]
  },
  {
   "cell_type": "code",
   "execution_count": 2,
   "id": "2b38bef9",
   "metadata": {},
   "outputs": [],
   "source": [
    "# Dependencies.\n",
    "import pandas as pd\n",
    "from pathlib import Path\n",
    "import matplotlib.pyplot as plt\n",
    "import scipy.stats as st\n",
    "import numpy as np"
   ]
  },
  {
   "cell_type": "code",
   "execution_count": 3,
   "id": "4be9a5e5",
   "metadata": {},
   "outputs": [],
   "source": [
    "csv_path = Path(\"Data_Ref_2020.csv\")"
   ]
  },
  {
   "cell_type": "code",
   "execution_count": 4,
   "id": "fa8af578",
   "metadata": {},
   "outputs": [],
   "source": [
    "CD = pd.read_csv(csv_path)"
   ]
  },
  {
   "cell_type": "code",
   "execution_count": 5,
   "id": "c5ca2a7f",
   "metadata": {},
   "outputs": [
    {
     "data": {
      "text/plain": [
       "409541"
      ]
     },
     "execution_count": 5,
     "metadata": {},
     "output_type": "execute_result"
    }
   ],
   "source": [
    "# Isolate number of unique incident ID's for reference.\n",
    "Incidents = len(CD[\"INCIDENT_ID\"].unique())\n",
    "Incidents"
   ]
  },
  {
   "cell_type": "code",
   "execution_count": 6,
   "id": "d70ff293",
   "metadata": {},
   "outputs": [
    {
     "data": {
      "text/plain": [
       "473941"
      ]
     },
     "execution_count": 6,
     "metadata": {},
     "output_type": "execute_result"
    }
   ],
   "source": [
    "Offenses = len(CD[\"OFFENSE_ID\"].unique())\n",
    "Offenses"
   ]
  },
  {
   "cell_type": "code",
   "execution_count": 44,
   "id": "277d9a9f",
   "metadata": {},
   "outputs": [
    {
     "data": {
      "text/plain": [
       "RACE\n",
       "White                                        276032\n",
       "Black or African American                    206174\n",
       "Unknown                                      158937\n",
       "Asian                                          1480\n",
       "American Indian or Alaska Native                779\n",
       "Native Hawaiian or Other Pacific Islander       301\n",
       "Name: count, dtype: int64"
      ]
     },
     "execution_count": 44,
     "metadata": {},
     "output_type": "execute_result"
    }
   ],
   "source": [
    "Race = CD[\"RACE\"].value_counts()\n",
    "Race"
   ]
  },
  {
   "cell_type": "code",
   "execution_count": 38,
   "id": "7ad0322d",
   "metadata": {},
   "outputs": [
    {
     "data": {
      "text/plain": [
       "SEX_CODE_y\n",
       "M    341703\n",
       "F    151709\n",
       "U     92652\n",
       "Name: count, dtype: int64"
      ]
     },
     "execution_count": 38,
     "metadata": {},
     "output_type": "execute_result"
    }
   ],
   "source": [
    "Sex = CD[\"SEX_CODE_y\"].value_counts()\n",
    "Sex"
   ]
  },
  {
   "cell_type": "code",
   "execution_count": 39,
   "id": "2fd019f9",
   "metadata": {},
   "outputs": [
    {
     "data": {
      "text/plain": [
       "LOCATION_NAME\n",
       "Residence/Home                                   268769\n",
       "Highway/Road/Alley/Street/Sidewalk               111064\n",
       "Parking/Drop Lot/Garage                           73234\n",
       "Department/Discount Store                         38149\n",
       "Convenience Store                                 24239\n",
       "Other/Unknown                                     16664\n",
       "Hotel/Motel/Etc.                                  15534\n",
       "Grocery/Supermarket                               12714\n",
       "Specialty Store                                   10396\n",
       "Restaurant                                         8772\n",
       "Service/Gas Station                                7165\n",
       "Commercial/Office Building                         7043\n",
       "School-Elementary/Secondary                        5801\n",
       "Drug Store/Doctor's Office/Hospital                4498\n",
       "Bank/Savings and Loan                              4437\n",
       "Jail/Prison/Penitentiary/Corrections Facility      3525\n",
       "Park/Playground                                    3410\n",
       "Rental Storage Facility                            3020\n",
       "Government/Public Building                         2779\n",
       "Field/Woods                                        2778\n",
       "Bar/Nightclub                                      2496\n",
       "Auto Dealership New/Used                           2455\n",
       "Church/Synagogue/Temple/Mosque                     2199\n",
       "Construction Site                                  2125\n",
       "Shopping Mall                                      1865\n",
       "Liquor Store                                       1183\n",
       "School-College/University                          1074\n",
       "Industrial Site                                     736\n",
       "Abandoned/Condemned Structure                       729\n",
       "Air/Bus/Train Terminal                              642\n",
       "Camp/Campground                                     592\n",
       "Lake/Waterway/Beach                                 529\n",
       "Farm Facility                                       528\n",
       "Community Center                                    504\n",
       "ATM Separate from Bank                              475\n",
       "Dock/Wharf/Freight/Modal Terminal                   397\n",
       "Shelter-Mission/Homeless                            276\n",
       "Arena/Stadium/Fairgrounds/Coliseum                  264\n",
       "Amusement Park                                      243\n",
       "Daycare Facility                                    229\n",
       "Rest Area                                           151\n",
       "Military Installation                                12\n",
       "School/College                                        6\n",
       "Gambling Facility/Casino/Race Track                   2\n",
       "Name: count, dtype: int64"
      ]
     },
     "execution_count": 39,
     "metadata": {},
     "output_type": "execute_result"
    }
   ],
   "source": [
    "Location = CD[\"LOCATION_NAME\"].value_counts()\n",
    "Location"
   ]
  },
  {
   "cell_type": "code",
   "execution_count": 40,
   "id": "cf8a4ae6",
   "metadata": {},
   "outputs": [
    {
     "data": {
      "text/plain": [
       "OFFENSE_TYPE\n",
       "Larceny/Theft Offenses                      155711\n",
       "Drug/Narcotic Offenses                      138411\n",
       "Assault Offenses                            138125\n",
       "Destruction/Damage/Vandalism of Property     57165\n",
       "Burglary/Breaking & Entering                 32532\n",
       "Fraud Offenses                               30559\n",
       "Motor Vehicle Theft                          27467\n",
       "Weapon Law Violations                        24727\n",
       "Robbery                                      11719\n",
       "Counterfeiting/Forgery                        7081\n",
       "Stolen Property Offenses                      5376\n",
       "Sex Offenses                                  5054\n",
       "Kidnapping/Abduction                          2355\n",
       "Embezzlement                                  1842\n",
       "Arson                                         1133\n",
       "Homicide Offenses                             1068\n",
       "Pornography/Obscene Material                  1000\n",
       "Prostitution Offenses                          609\n",
       "Extortion/Blackmail                            552\n",
       "Animal Cruelty                                 543\n",
       "Sex Offenses, Non-forcible                     461\n",
       "Gambling Offenses                              110\n",
       "Human Trafficking                               69\n",
       "Bribery                                         34\n",
       "Name: count, dtype: int64"
      ]
     },
     "execution_count": 40,
     "metadata": {},
     "output_type": "execute_result"
    }
   ],
   "source": [
    "Offense = CD[\"OFFENSE_TYPE\"].value_counts()\n",
    "Offense"
   ]
  },
  {
   "cell_type": "code",
   "execution_count": null,
   "id": "e32992fd",
   "metadata": {},
   "outputs": [],
   "source": []
  },
  {
   "cell_type": "code",
   "execution_count": null,
   "id": "967ac8ec",
   "metadata": {},
   "outputs": [],
   "source": []
  }
 ],
 "metadata": {
  "kernelspec": {
   "display_name": "Python 3 (ipykernel)",
   "language": "python",
   "name": "python3"
  },
  "language_info": {
   "codemirror_mode": {
    "name": "ipython",
    "version": 3
   },
   "file_extension": ".py",
   "mimetype": "text/x-python",
   "name": "python",
   "nbconvert_exporter": "python",
   "pygments_lexer": "ipython3",
   "version": "3.10.13"
  }
 },
 "nbformat": 4,
 "nbformat_minor": 5
}
