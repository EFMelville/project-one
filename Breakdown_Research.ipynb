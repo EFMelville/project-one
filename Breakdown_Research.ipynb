{
 "cells": [
  {
   "cell_type": "code",
   "execution_count": 1,
   "id": "18056a00",
   "metadata": {},
   "outputs": [],
   "source": [
    "import requests\n",
    "import json"
   ]
  },
  {
   "cell_type": "code",
   "execution_count": 8,
   "id": "174e0dd2",
   "metadata": {},
   "outputs": [],
   "source": [
    "url = \"https://api.usa.gov/crime/fbi/cde/estimate/\""
   ]
  },
  {
   "cell_type": "code",
   "execution_count": 9,
   "id": "78fde8d1",
   "metadata": {},
   "outputs": [
    {
     "name": "stdout",
     "output_type": "stream",
     "text": [
      "<Response [403]>\n"
     ]
    }
   ],
   "source": [
    "print(requests.get(url))"
   ]
  },
  {
   "cell_type": "code",
   "execution_count": 7,
   "id": "42b68ef6",
   "metadata": {},
   "outputs": [
    {
     "name": "stdout",
     "output_type": "stream",
     "text": [
      "{\n",
      "    \"results\": {\n",
      "        \"Tennessee Burglary\": {\n",
      "            \"2020\": 384.5,\n",
      "            \"2021\": 339,\n",
      "            \"2022\": 319.1,\n",
      "            \"2023\": null\n",
      "        },\n",
      "        \"United States Burglary\": {\n",
      "            \"2020\": 314.2,\n",
      "            \"2021\": 270.9,\n",
      "            \"2022\": 269.8,\n",
      "            \"2023\": null\n",
      "        }\n",
      "    }\n",
      "}\n"
     ]
    }
   ],
   "source": [
    "response = requests.get(url).json()\n",
    "print(json.dumps(response, indent=4))"
   ]
  },
  {
   "cell_type": "code",
   "execution_count": null,
   "id": "afa5403b",
   "metadata": {},
   "outputs": [],
   "source": []
  }
 ],
 "metadata": {
  "kernelspec": {
   "display_name": "Python 3 (ipykernel)",
   "language": "python",
   "name": "python3"
  },
  "language_info": {
   "codemirror_mode": {
    "name": "ipython",
    "version": 3
   },
   "file_extension": ".py",
   "mimetype": "text/x-python",
   "name": "python",
   "nbconvert_exporter": "python",
   "pygments_lexer": "ipython3",
   "version": "3.10.13"
  }
 },
 "nbformat": 4,
 "nbformat_minor": 5
}
