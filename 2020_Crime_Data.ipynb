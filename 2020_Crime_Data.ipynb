{
 "cells": [
  {
   "cell_type": "code",
   "execution_count": 1,
   "id": "4e1639c8",
   "metadata": {},
   "outputs": [],
   "source": [
    "%matplotlib notebook"
   ]
  },
  {
   "cell_type": "code",
   "execution_count": 2,
   "id": "1258ea89",
   "metadata": {},
   "outputs": [],
   "source": [
    "# Dependencies.\n",
    "import pandas as pd\n",
    "from pathlib import Path\n",
    "import matplotlib.pyplot as plt\n",
    "import scipy.stats as st\n",
    "import numpy as np"
   ]
  },
  {
   "cell_type": "code",
   "execution_count": 3,
   "id": "0913dac7",
   "metadata": {},
   "outputs": [],
   "source": [
    "# Establish file paths for csv files.\n",
    "csv_path_5 = Path(\"Resources_2020/NIBRS_ARRESTEE.csv\")\n",
    "csv_path_14 = Path(\"Resources_2020/NIBRS_ETHNICITY.csv\")\n",
    "csv_path_17 = Path(\"Resources_2020/NIBRS_LOCATION_TYPE.csv\")\n",
    "csv_path_18 = Path(\"Resources_2020/NIBRS_OFFENDER.csv\")\n",
    "csv_path_19 = Path(\"Resources_2020/NIBRS_OFFENSE.csv\")\n",
    "csv_path_20 = Path(\"Resources_2020/NIBRS_OFFENSE_TYPE.csv\")\n",
    "csv_path_38 = Path(\"Resources_2020/REF_RACE.csv\")"
   ]
  },
  {
   "cell_type": "code",
   "execution_count": 4,
   "id": "b3200c46",
   "metadata": {},
   "outputs": [],
   "source": [
    "# Read in the csv files for manipulation.\n",
    "csv_5 = pd.read_csv(csv_path_5)\n",
    "csv_14 = pd.read_csv(csv_path_14)\n",
    "csv_17 = pd.read_csv(csv_path_17)\n",
    "csv_18 = pd.read_csv(csv_path_18)\n",
    "csv_19 = pd.read_csv(csv_path_19)\n",
    "csv_20 = pd.read_csv(csv_path_20)\n",
    "csv_38 = pd.read_csv(csv_path_38)"
   ]
  },
  {
   "cell_type": "code",
   "execution_count": 5,
   "id": "ad27e944",
   "metadata": {},
   "outputs": [],
   "source": [
    "# Merge csv files for crossreference.\n",
    "Incident_ID = pd.merge(csv_5, csv_19, on = \"INCIDENT_ID\", how = \"outer\")\n",
    "Incident_ID_2 = pd.merge(Incident_ID, csv_18, on = \"INCIDENT_ID\", how = \"inner\")\n",
    "\n"
   ]
  },
  {
   "cell_type": "code",
   "execution_count": 6,
   "id": "29d842a1",
   "metadata": {},
   "outputs": [],
   "source": [
    "# Isolate key values for Offense Categories to plug in place of numerical data.\n",
    "csv_20 = csv_20[[\"OFFENSE_TYPE_ID\", \"OFFENSE_CATEGORY_NAME\"]]"
   ]
  },
  {
   "cell_type": "code",
   "execution_count": 7,
   "id": "c91fb3a8",
   "metadata": {},
   "outputs": [],
   "source": [
    "# Establish key values for Offense Categories.\n",
    "def get_offense(ID):\n",
    "    return csv_20.loc[csv_20[\"OFFENSE_TYPE_ID\"] == ID, \"OFFENSE_CATEGORY_NAME\"]"
   ]
  },
  {
   "cell_type": "code",
   "execution_count": 8,
   "id": "cc44e2f7",
   "metadata": {},
   "outputs": [],
   "source": [
    "# Replace Offense Type ID's with Offense Category descriptions.\n",
    "Incident_ID_2[\"OFFENSE_TYPE\"] = \"\"\n",
    "for index, row in Incident_ID_2.iterrows():\n",
    "    Incident_ID_2.loc[index, \"OFFENSE_TYPE\"] = (get_offense(row[\"OFFENSE_TYPE_ID_y\"]).values[0])"
   ]
  },
  {
   "cell_type": "code",
   "execution_count": 9,
   "id": "d4f57e9a",
   "metadata": {},
   "outputs": [],
   "source": [
    "# Isolate key values for Location Categories to plug in place of numerical data.\n",
    "csv_17 = csv_17[[\"LOCATION_ID\", \"LOCATION_NAME\"]]"
   ]
  },
  {
   "cell_type": "code",
   "execution_count": 10,
   "id": "5704bbfc",
   "metadata": {},
   "outputs": [],
   "source": [
    "# Establish key values for Location Categories.\n",
    "def get_location(ID):\n",
    "    return csv_17.loc[csv_17[\"LOCATION_ID\"] == ID, \"LOCATION_NAME\"]"
   ]
  },
  {
   "cell_type": "code",
   "execution_count": 11,
   "id": "f09fbd04",
   "metadata": {},
   "outputs": [],
   "source": [
    "# Replace Offense Type ID's with Location Name descriptions.\n",
    "Incident_ID_2[\"LOCATION_NAME\"] = \"\"\n",
    "for index, row in Incident_ID_2.iterrows():\n",
    "    Incident_ID_2.loc[index, \"LOCATION_NAME\"] = (get_location(row[\"LOCATION_ID\"]).values[0])"
   ]
  },
  {
   "cell_type": "code",
   "execution_count": 12,
   "id": "763a4e80",
   "metadata": {},
   "outputs": [],
   "source": [
    "# Replace all nan or empty values with 0 (0 indicates Unknown in Race_Desc key).\n",
    "Incident_ID_2[\"RACE_ID_y\"] = Incident_ID_2[\"RACE_ID_y\"].fillna(0)"
   ]
  },
  {
   "cell_type": "code",
   "execution_count": 13,
   "id": "dfdce35c",
   "metadata": {},
   "outputs": [],
   "source": [
    "# Change dtype from float to int for later conversion.\n",
    "Incident_ID_2[\"RACE_ID_y\"] = Incident_ID_2[\"RACE_ID_y\"].astype(np.int64)"
   ]
  },
  {
   "cell_type": "code",
   "execution_count": 14,
   "id": "e37395f0",
   "metadata": {},
   "outputs": [],
   "source": [
    "# Replace all nan or empty values with 3 (3 indicates Unknown in Ethnicity_Name key).\n",
    "Incident_ID_2[\"ETHNICITY_ID_y\"] = Incident_ID_2[\"ETHNICITY_ID_y\"].fillna(3)\n",
    "Incident_ID_2[\"ETHNICITY_ID_y\"] = Incident_ID_2[\"ETHNICITY_ID_y\"].replace({\"\":3})"
   ]
  },
  {
   "cell_type": "code",
   "execution_count": 15,
   "id": "027411cc",
   "metadata": {
    "scrolled": true
   },
   "outputs": [],
   "source": [
    "# Change dtype from float to int for later conversion.\n",
    "Incident_ID_2[\"ETHNICITY_ID_y\"] = Incident_ID_2[\"ETHNICITY_ID_y\"].astype(np.int64)"
   ]
  },
  {
   "cell_type": "code",
   "execution_count": 16,
   "id": "66e0f24e",
   "metadata": {},
   "outputs": [],
   "source": [
    "# Isolate key values for Race Categories to plug in place of numerical data.\n",
    "csv_38 = csv_38[[\"RACE_ID\", \"RACE_DESC\"]]"
   ]
  },
  {
   "cell_type": "code",
   "execution_count": 17,
   "id": "50691a71",
   "metadata": {},
   "outputs": [],
   "source": [
    "# Establish key values for Race Categories.\n",
    "def get_race(ID):\n",
    "    return csv_38.loc[csv_38[\"RACE_ID\"] == ID, \"RACE_DESC\"]"
   ]
  },
  {
   "cell_type": "code",
   "execution_count": 18,
   "id": "1ad4b957",
   "metadata": {},
   "outputs": [],
   "source": [
    "# Replace Race ID's with Race descriptions.\n",
    "Incident_ID_2[\"RACE\"] = \"\"\n",
    "try:\n",
    "    for index, row in Incident_ID_2.iterrows():\n",
    "        Incident_ID_2.loc[index, \"RACE\"] = (get_race(row[\"RACE_ID_y\"]).values[0])\n",
    "except:\n",
    "    \"\""
   ]
  },
  {
   "cell_type": "code",
   "execution_count": 19,
   "id": "f2a3fe28",
   "metadata": {},
   "outputs": [],
   "source": [
    "# Isolate key values for Ethnicity Categories to plug in place of numerical data.\n",
    "csv_14 = csv_14[[\"ETHNICITY_ID\", \"ETHNICITY_NAME\"]]"
   ]
  },
  {
   "cell_type": "code",
   "execution_count": 20,
   "id": "13c1fd56",
   "metadata": {},
   "outputs": [],
   "source": [
    "# Establish key values for Ethnicity descriptions.\n",
    "def get_ethnicity(ID):\n",
    "    return csv_14.loc[csv_14[\"ETHNICITY_ID\"] == ID, \"ETHNICITY_NAME\"]"
   ]
  },
  {
   "cell_type": "code",
   "execution_count": 21,
   "id": "49572271",
   "metadata": {},
   "outputs": [],
   "source": [
    "# Replace Ethnicity ID's with Ethnicity descriptions.\n",
    "Incident_ID_2[\"ETHNICITY\"] = \"\"\n",
    "try:\n",
    "    for index, row in Incident_ID_2.iterrows():\n",
    "        Incident_ID_2.loc[index, \"ETHNICITY\"] = (get_ethnicity(row[\"ETHNICITY_ID_y\"]).values[0])\n",
    "except:\n",
    "    \"\""
   ]
  },
  {
   "cell_type": "code",
   "execution_count": 22,
   "id": "9d405387",
   "metadata": {
    "scrolled": true
   },
   "outputs": [
    {
     "data": {
      "text/html": [
       "<div>\n",
       "<style scoped>\n",
       "    .dataframe tbody tr th:only-of-type {\n",
       "        vertical-align: middle;\n",
       "    }\n",
       "\n",
       "    .dataframe tbody tr th {\n",
       "        vertical-align: top;\n",
       "    }\n",
       "\n",
       "    .dataframe thead th {\n",
       "        text-align: right;\n",
       "    }\n",
       "</style>\n",
       "<table border=\"1\" class=\"dataframe\">\n",
       "  <thead>\n",
       "    <tr style=\"text-align: right;\">\n",
       "      <th></th>\n",
       "      <th>INCIDENT_ID</th>\n",
       "      <th>OFFENSE_ID</th>\n",
       "      <th>OFFENSE_TYPE_ID_y</th>\n",
       "      <th>LOCATION_ID</th>\n",
       "      <th>OFFENDER_ID</th>\n",
       "      <th>SEX_CODE_y</th>\n",
       "      <th>RACE_ID_y</th>\n",
       "      <th>ETHNICITY_ID_y</th>\n",
       "      <th>OFFENSE_TYPE</th>\n",
       "      <th>LOCATION_NAME</th>\n",
       "      <th>RACE</th>\n",
       "      <th>ETHNICITY</th>\n",
       "    </tr>\n",
       "  </thead>\n",
       "  <tbody>\n",
       "    <tr>\n",
       "      <th>0</th>\n",
       "      <td>119544948</td>\n",
       "      <td>144855027</td>\n",
       "      <td>16</td>\n",
       "      <td>13</td>\n",
       "      <td>135864048</td>\n",
       "      <td>M</td>\n",
       "      <td>1</td>\n",
       "      <td>2</td>\n",
       "      <td>Drug/Narcotic Offenses</td>\n",
       "      <td>Highway/Road/Alley/Street/Sidewalk</td>\n",
       "      <td>White</td>\n",
       "      <td>Not Hispanic or Latino</td>\n",
       "    </tr>\n",
       "    <tr>\n",
       "      <th>1</th>\n",
       "      <td>119537395</td>\n",
       "      <td>144858511</td>\n",
       "      <td>23</td>\n",
       "      <td>7</td>\n",
       "      <td>135864055</td>\n",
       "      <td>M</td>\n",
       "      <td>1</td>\n",
       "      <td>2</td>\n",
       "      <td>Larceny/Theft Offenses</td>\n",
       "      <td>Convenience Store</td>\n",
       "      <td>White</td>\n",
       "      <td>Not Hispanic or Latino</td>\n",
       "    </tr>\n",
       "    <tr>\n",
       "      <th>2</th>\n",
       "      <td>119537395</td>\n",
       "      <td>144855034</td>\n",
       "      <td>35</td>\n",
       "      <td>7</td>\n",
       "      <td>135864055</td>\n",
       "      <td>M</td>\n",
       "      <td>1</td>\n",
       "      <td>2</td>\n",
       "      <td>Drug/Narcotic Offenses</td>\n",
       "      <td>Convenience Store</td>\n",
       "      <td>White</td>\n",
       "      <td>Not Hispanic or Latino</td>\n",
       "    </tr>\n",
       "    <tr>\n",
       "      <th>3</th>\n",
       "      <td>119545072</td>\n",
       "      <td>144855183</td>\n",
       "      <td>35</td>\n",
       "      <td>7</td>\n",
       "      <td>135864186</td>\n",
       "      <td>F</td>\n",
       "      <td>1</td>\n",
       "      <td>2</td>\n",
       "      <td>Drug/Narcotic Offenses</td>\n",
       "      <td>Convenience Store</td>\n",
       "      <td>White</td>\n",
       "      <td>Not Hispanic or Latino</td>\n",
       "    </tr>\n",
       "    <tr>\n",
       "      <th>4</th>\n",
       "      <td>119545072</td>\n",
       "      <td>144855182</td>\n",
       "      <td>16</td>\n",
       "      <td>7</td>\n",
       "      <td>135864186</td>\n",
       "      <td>F</td>\n",
       "      <td>1</td>\n",
       "      <td>2</td>\n",
       "      <td>Drug/Narcotic Offenses</td>\n",
       "      <td>Convenience Store</td>\n",
       "      <td>White</td>\n",
       "      <td>Not Hispanic or Latino</td>\n",
       "    </tr>\n",
       "  </tbody>\n",
       "</table>\n",
       "</div>"
      ],
      "text/plain": [
       "   INCIDENT_ID  OFFENSE_ID  OFFENSE_TYPE_ID_y  LOCATION_ID  OFFENDER_ID  \\\n",
       "0    119544948   144855027                 16           13    135864048   \n",
       "1    119537395   144858511                 23            7    135864055   \n",
       "2    119537395   144855034                 35            7    135864055   \n",
       "3    119545072   144855183                 35            7    135864186   \n",
       "4    119545072   144855182                 16            7    135864186   \n",
       "\n",
       "  SEX_CODE_y  RACE_ID_y  ETHNICITY_ID_y            OFFENSE_TYPE  \\\n",
       "0          M          1               2  Drug/Narcotic Offenses   \n",
       "1          M          1               2  Larceny/Theft Offenses   \n",
       "2          M          1               2  Drug/Narcotic Offenses   \n",
       "3          F          1               2  Drug/Narcotic Offenses   \n",
       "4          F          1               2  Drug/Narcotic Offenses   \n",
       "\n",
       "                        LOCATION_NAME   RACE               ETHNICITY  \n",
       "0  Highway/Road/Alley/Street/Sidewalk  White  Not Hispanic or Latino  \n",
       "1                   Convenience Store  White  Not Hispanic or Latino  \n",
       "2                   Convenience Store  White  Not Hispanic or Latino  \n",
       "3                   Convenience Store  White  Not Hispanic or Latino  \n",
       "4                   Convenience Store  White  Not Hispanic or Latino  "
      ]
     },
     "execution_count": 22,
     "metadata": {},
     "output_type": "execute_result"
    }
   ],
   "source": [
    "# Remove unnecessary Columns.\n",
    "Crime_Data_2020 = Incident_ID_2.drop([\n",
    "    \"DATA_YEAR_x\", \n",
    "    \"ARRESTEE_ID\", \n",
    "    \"ARRESTEE_SEQ_NUM\", \n",
    "    \"ARREST_DATE\", \n",
    "    \"ARREST_TYPE_ID\", \n",
    "    \"MULTIPLE_INDICATOR\", \n",
    "    \"OFFENSE_TYPE_ID_x\", \n",
    "    \"AGE_ID_x\", \n",
    "    \"AGE_NUM_x\", \n",
    "    \"SEX_CODE_x\", \n",
    "    \"RACE_ID_x\", \n",
    "    \"ETHNICITY_ID_x\", \n",
    "    \"RESIDENT_CODE\", \n",
    "    \"UNDER_18_DISPOSITION_CODE\", \n",
    "    \"CLEARANCE_IND\", \n",
    "    \"AGE_RANGE_LOW_NUM_x\", \n",
    "    \"AGE_RANGE_HIGH_NUM_x\", \n",
    "    \"DATA_YEAR_y\", \n",
    "    \"ATTEMPT_COMPLETE_FLAG\", \n",
    "    \"NUM_PREMISES_ENTERED\", \n",
    "    \"METHOD_ENTRY_CODE\", \n",
    "    \"DATA_YEAR\", \n",
    "    \"OFFENDER_SEQ_NUM\", \n",
    "    \"AGE_ID_y\", \n",
    "    \"AGE_NUM_y\", \n",
    "    \"AGE_RANGE_LOW_NUM_y\", \n",
    "    \"AGE_RANGE_HIGH_NUM_y\"], axis=1)\n",
    "\n",
    "Crime_Data_2020.head()"
   ]
  },
  {
   "cell_type": "code",
   "execution_count": 23,
   "id": "f25fd694",
   "metadata": {},
   "outputs": [],
   "source": [
    "Crime_Data_2020.to_csv(\"Data_Ref_2020.csv\", index=False)"
   ]
  },
  {
   "cell_type": "code",
   "execution_count": null,
   "id": "7cd5d266",
   "metadata": {},
   "outputs": [],
   "source": []
  }
 ],
 "metadata": {
  "kernelspec": {
   "display_name": "Python 3 (ipykernel)",
   "language": "python",
   "name": "python3"
  },
  "language_info": {
   "codemirror_mode": {
    "name": "ipython",
    "version": 3
   },
   "file_extension": ".py",
   "mimetype": "text/x-python",
   "name": "python",
   "nbconvert_exporter": "python",
   "pygments_lexer": "ipython3",
   "version": "3.10.13"
  }
 },
 "nbformat": 4,
 "nbformat_minor": 5
}
