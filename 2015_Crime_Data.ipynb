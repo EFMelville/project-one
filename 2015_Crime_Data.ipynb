{
 "cells": [
  {
   "cell_type": "code",
   "execution_count": 1,
   "id": "4e1639c8",
   "metadata": {},
   "outputs": [],
   "source": [
    "%matplotlib notebook"
   ]
  },
  {
   "cell_type": "code",
   "execution_count": 2,
   "id": "1258ea89",
   "metadata": {},
   "outputs": [],
   "source": [
    "# Dependencies.\n",
    "import pandas as pd\n",
    "from pathlib import Path\n",
    "import matplotlib.pyplot as plt\n",
    "import scipy.stats as st\n",
    "import numpy as np"
   ]
  },
  {
   "cell_type": "code",
   "execution_count": 3,
   "id": "0913dac7",
   "metadata": {},
   "outputs": [],
   "source": [
    "# Establish file paths for csv files.\n",
    "csv_path_5 = Path(\"Resources_2015/nibrs_arrestee.csv\")\n",
    "csv_path_14 = Path(\"Resources_2015/nibrs_ethnicity.csv\")\n",
    "csv_path_17 = Path(\"Resources_2015/nibrs_location_type.csv\")\n",
    "csv_path_18 = Path(\"Resources_2015/nibrs_offender.csv\")\n",
    "csv_path_19 = Path(\"Resources_2015/nibrs_offense.csv\")\n",
    "csv_path_20 = Path(\"Resources_2015/nibrs_offense_type.csv\")\n",
    "csv_path_38 = Path(\"Resources_2015/ref_race.csv\")"
   ]
  },
  {
   "cell_type": "code",
   "execution_count": 4,
   "id": "b3200c46",
   "metadata": {},
   "outputs": [],
   "source": [
    "# Read in the csv files for manipulation.\n",
    "csv_5 = pd.read_csv(csv_path_5)\n",
    "csv_14 = pd.read_csv(csv_path_14)\n",
    "csv_17 = pd.read_csv(csv_path_17)\n",
    "csv_18 = pd.read_csv(csv_path_18)\n",
    "csv_19 = pd.read_csv(csv_path_19)\n",
    "csv_20 = pd.read_csv(csv_path_20)\n",
    "csv_38 = pd.read_csv(csv_path_38)"
   ]
  },
  {
   "cell_type": "code",
   "execution_count": 5,
   "id": "ad27e944",
   "metadata": {},
   "outputs": [],
   "source": [
    "# Merge csv files for crossreference.\n",
    "Incident_ID = pd.merge(csv_5, csv_19, on = \"incident_id\", how = \"outer\")\n",
    "Incident_ID_2 = pd.merge(Incident_ID, csv_18, on = \"incident_id\", how = \"inner\")\n",
    "\n"
   ]
  },
  {
   "cell_type": "code",
   "execution_count": 6,
   "id": "29d842a1",
   "metadata": {},
   "outputs": [],
   "source": [
    "# Isolate key values for Offense Categories to plug in place of numerical data.\n",
    "csv_20 = csv_20[[\"offense_type_id\", \"offense_category_name\"]]"
   ]
  },
  {
   "cell_type": "code",
   "execution_count": 7,
   "id": "c91fb3a8",
   "metadata": {},
   "outputs": [],
   "source": [
    "# Establish key values for Offense Categories.\n",
    "def get_offense(ID):\n",
    "    return csv_20.loc[csv_20[\"offense_type_id\"] == ID, \"offense_category_name\"]"
   ]
  },
  {
   "cell_type": "code",
   "execution_count": 8,
   "id": "cc44e2f7",
   "metadata": {},
   "outputs": [],
   "source": [
    "# Replace Offense Type ID's with Offense Category descriptions.\n",
    "Incident_ID_2[\"offense_type\"] = \"\"\n",
    "for index, row in Incident_ID_2.iterrows():\n",
    "    Incident_ID_2.loc[index, \"offense_type\"] = (get_offense(row[\"offense_type_id_y\"]).values[0])"
   ]
  },
  {
   "cell_type": "code",
   "execution_count": 9,
   "id": "d4f57e9a",
   "metadata": {},
   "outputs": [],
   "source": [
    "# Isolate key values for Location Categories to plug in place of numerical data.\n",
    "csv_17 = csv_17[[\"location_id\", \"location_name\"]]"
   ]
  },
  {
   "cell_type": "code",
   "execution_count": 10,
   "id": "5704bbfc",
   "metadata": {},
   "outputs": [],
   "source": [
    "# Establish key values for Location Categories.\n",
    "def get_location(ID):\n",
    "    return csv_17.loc[csv_17[\"location_id\"] == ID, \"location_name\"]"
   ]
  },
  {
   "cell_type": "code",
   "execution_count": 11,
   "id": "f09fbd04",
   "metadata": {},
   "outputs": [],
   "source": [
    "# Replace Offense Type ID's with Location Name descriptions.\n",
    "Incident_ID_2[\"location_name\"] = \"\"\n",
    "for index, row in Incident_ID_2.iterrows():\n",
    "    Incident_ID_2.loc[index, \"location_name\"] = (get_location(row[\"location_id\"]).values[0])"
   ]
  },
  {
   "cell_type": "code",
   "execution_count": 12,
   "id": "763a4e80",
   "metadata": {},
   "outputs": [],
   "source": [
    "# Replace all nan or empty values with 0 (0 indicates Unknown in Race_Desc key).\n",
    "Incident_ID_2[\"race_id_y\"] = Incident_ID_2[\"race_id_y\"].fillna(0)"
   ]
  },
  {
   "cell_type": "code",
   "execution_count": 13,
   "id": "dfdce35c",
   "metadata": {},
   "outputs": [],
   "source": [
    "# Change dtype from float to int for later conversion.\n",
    "Incident_ID_2[\"race_id_y\"] = Incident_ID_2[\"race_id_y\"].astype(np.int64)"
   ]
  },
  {
   "cell_type": "code",
   "execution_count": 14,
   "id": "e37395f0",
   "metadata": {},
   "outputs": [],
   "source": [
    "# Replace all nan or empty values with 3 (3 indicates Unknown in Ethnicity_Name key).\n",
    "Incident_ID_2[\"ethnicity_id_y\"] = Incident_ID_2[\"ethnicity_id_y\"].fillna(3)\n",
    "Incident_ID_2[\"ethnicity_id_y\"] = Incident_ID_2[\"ethnicity_id_y\"].replace({\"\":3})"
   ]
  },
  {
   "cell_type": "code",
   "execution_count": 15,
   "id": "027411cc",
   "metadata": {
    "scrolled": true
   },
   "outputs": [],
   "source": [
    "# Change dtype from float to int for later conversion.\n",
    "Incident_ID_2[\"ethnicity_id_y\"] = Incident_ID_2[\"ethnicity_id_y\"].astype(np.int64)"
   ]
  },
  {
   "cell_type": "code",
   "execution_count": 16,
   "id": "66e0f24e",
   "metadata": {},
   "outputs": [],
   "source": [
    "# Isolate key values for Race Categories to plug in place of numerical data.\n",
    "csv_38 = csv_38[[\"race_id\", \"race_desc\"]]"
   ]
  },
  {
   "cell_type": "code",
   "execution_count": 17,
   "id": "50691a71",
   "metadata": {},
   "outputs": [],
   "source": [
    "# Establish key values for Race Categories.\n",
    "def get_race(ID):\n",
    "    return csv_38.loc[csv_38[\"race_id\"] == ID, \"race_desc\"]"
   ]
  },
  {
   "cell_type": "code",
   "execution_count": 18,
   "id": "1ad4b957",
   "metadata": {},
   "outputs": [],
   "source": [
    "# Replace Race ID's with Race descriptions.\n",
    "Incident_ID_2[\"race\"] = \"\"\n",
    "try:\n",
    "    for index, row in Incident_ID_2.iterrows():\n",
    "        Incident_ID_2.loc[index, \"race\"] = (get_race(row[\"race_id_y\"]).values[0])\n",
    "except:\n",
    "    \"\""
   ]
  },
  {
   "cell_type": "code",
   "execution_count": 19,
   "id": "f2a3fe28",
   "metadata": {},
   "outputs": [],
   "source": [
    "# Isolate key values for Ethnicity Categories to plug in place of numerical data.\n",
    "csv_14 = csv_14[[\"ethnicity_id\", \"ethnicity_name\"]]"
   ]
  },
  {
   "cell_type": "code",
   "execution_count": 20,
   "id": "13c1fd56",
   "metadata": {},
   "outputs": [],
   "source": [
    "# Establish key values for Ethnicity descriptions.\n",
    "def get_ethnicity(ID):\n",
    "    return csv_14.loc[csv_14[\"ethnicity_id\"] == ID, \"ethnicity_name\"]"
   ]
  },
  {
   "cell_type": "code",
   "execution_count": 21,
   "id": "49572271",
   "metadata": {},
   "outputs": [],
   "source": [
    "# Replace Ethnicity ID's with Ethnicity descriptions.\n",
    "Incident_ID_2[\"ethnicity\"] = \"\"\n",
    "try:\n",
    "    for index, row in Incident_ID_2.iterrows():\n",
    "        Incident_ID_2.loc[index, \"ethnicity\"] = (get_ethnicity(row[\"ethnicity_id_y\"]).values[0])\n",
    "except:\n",
    "    \"\""
   ]
  },
  {
   "cell_type": "code",
   "execution_count": 26,
   "id": "9d405387",
   "metadata": {
    "scrolled": true
   },
   "outputs": [
    {
     "data": {
      "text/html": [
       "<div>\n",
       "<style scoped>\n",
       "    .dataframe tbody tr th:only-of-type {\n",
       "        vertical-align: middle;\n",
       "    }\n",
       "\n",
       "    .dataframe tbody tr th {\n",
       "        vertical-align: top;\n",
       "    }\n",
       "\n",
       "    .dataframe thead th {\n",
       "        text-align: right;\n",
       "    }\n",
       "</style>\n",
       "<table border=\"1\" class=\"dataframe\">\n",
       "  <thead>\n",
       "    <tr style=\"text-align: right;\">\n",
       "      <th></th>\n",
       "      <th>incident_id</th>\n",
       "      <th>offense_id</th>\n",
       "      <th>offense_type_id_y</th>\n",
       "      <th>location_id</th>\n",
       "      <th>offender_id</th>\n",
       "      <th>sex_code_y</th>\n",
       "      <th>race_id_y</th>\n",
       "      <th>ethnicity_id_y</th>\n",
       "      <th>offense_type</th>\n",
       "      <th>location_name</th>\n",
       "      <th>race</th>\n",
       "      <th>ethnicity</th>\n",
       "    </tr>\n",
       "  </thead>\n",
       "  <tbody>\n",
       "    <tr>\n",
       "      <th>0</th>\n",
       "      <td>80535041</td>\n",
       "      <td>86175036</td>\n",
       "      <td>51</td>\n",
       "      <td>18</td>\n",
       "      <td>90789928</td>\n",
       "      <td>M</td>\n",
       "      <td>1</td>\n",
       "      <td>2</td>\n",
       "      <td>Assault Offenses</td>\n",
       "      <td>Parking Lot/Garage</td>\n",
       "      <td>White</td>\n",
       "      <td>Not Hispanic or Latino</td>\n",
       "    </tr>\n",
       "    <tr>\n",
       "      <th>1</th>\n",
       "      <td>80535041</td>\n",
       "      <td>86175037</td>\n",
       "      <td>5</td>\n",
       "      <td>18</td>\n",
       "      <td>90789928</td>\n",
       "      <td>M</td>\n",
       "      <td>1</td>\n",
       "      <td>2</td>\n",
       "      <td>Destruction/Damage/Vandalism of Property</td>\n",
       "      <td>Parking Lot/Garage</td>\n",
       "      <td>White</td>\n",
       "      <td>Not Hispanic or Latino</td>\n",
       "    </tr>\n",
       "    <tr>\n",
       "      <th>2</th>\n",
       "      <td>83435754</td>\n",
       "      <td>91099609</td>\n",
       "      <td>5</td>\n",
       "      <td>18</td>\n",
       "      <td>94045222</td>\n",
       "      <td>M</td>\n",
       "      <td>1</td>\n",
       "      <td>2</td>\n",
       "      <td>Destruction/Damage/Vandalism of Property</td>\n",
       "      <td>Parking Lot/Garage</td>\n",
       "      <td>White</td>\n",
       "      <td>Not Hispanic or Latino</td>\n",
       "    </tr>\n",
       "    <tr>\n",
       "      <th>3</th>\n",
       "      <td>83045572</td>\n",
       "      <td>90650976</td>\n",
       "      <td>51</td>\n",
       "      <td>40</td>\n",
       "      <td>93589141</td>\n",
       "      <td>M</td>\n",
       "      <td>1</td>\n",
       "      <td>2</td>\n",
       "      <td>Assault Offenses</td>\n",
       "      <td>School-College/University</td>\n",
       "      <td>White</td>\n",
       "      <td>Not Hispanic or Latino</td>\n",
       "    </tr>\n",
       "    <tr>\n",
       "      <th>4</th>\n",
       "      <td>83044664</td>\n",
       "      <td>90650978</td>\n",
       "      <td>16</td>\n",
       "      <td>40</td>\n",
       "      <td>93589145</td>\n",
       "      <td>M</td>\n",
       "      <td>1</td>\n",
       "      <td>2</td>\n",
       "      <td>Drug/Narcotic Offenses</td>\n",
       "      <td>School-College/University</td>\n",
       "      <td>White</td>\n",
       "      <td>Not Hispanic or Latino</td>\n",
       "    </tr>\n",
       "  </tbody>\n",
       "</table>\n",
       "</div>"
      ],
      "text/plain": [
       "   incident_id  offense_id  offense_type_id_y  location_id  offender_id  \\\n",
       "0     80535041    86175036                 51           18     90789928   \n",
       "1     80535041    86175037                  5           18     90789928   \n",
       "2     83435754    91099609                  5           18     94045222   \n",
       "3     83045572    90650976                 51           40     93589141   \n",
       "4     83044664    90650978                 16           40     93589145   \n",
       "\n",
       "  sex_code_y  race_id_y  ethnicity_id_y  \\\n",
       "0          M          1               2   \n",
       "1          M          1               2   \n",
       "2          M          1               2   \n",
       "3          M          1               2   \n",
       "4          M          1               2   \n",
       "\n",
       "                               offense_type              location_name   race  \\\n",
       "0                          Assault Offenses         Parking Lot/Garage  White   \n",
       "1  Destruction/Damage/Vandalism of Property         Parking Lot/Garage  White   \n",
       "2  Destruction/Damage/Vandalism of Property         Parking Lot/Garage  White   \n",
       "3                          Assault Offenses  School-College/University  White   \n",
       "4                    Drug/Narcotic Offenses  School-College/University  White   \n",
       "\n",
       "                ethnicity  \n",
       "0  Not Hispanic or Latino  \n",
       "1  Not Hispanic or Latino  \n",
       "2  Not Hispanic or Latino  \n",
       "3  Not Hispanic or Latino  \n",
       "4  Not Hispanic or Latino  "
      ]
     },
     "execution_count": 26,
     "metadata": {},
     "output_type": "execute_result"
    }
   ],
   "source": [
    "# Remove unnecessary Columns.\n",
    "Crime_Data_2015 = Incident_ID_2.drop([\n",
    "    \"arrestee_id\", \n",
    "    \"arrestee_seq_num\", \n",
    "    \"arrest_num\", \n",
    "    \"arrest_date\", \n",
    "    \"arrest_type_id\", \n",
    "    \"multiple_indicator\", \n",
    "    \"offense_type_id_x\", \n",
    "    \"age_id_x\", \n",
    "    \"age_num_x\", \n",
    "    \"sex_code_x\", \n",
    "    \"race_id_x\", \n",
    "    \"ethnicity_id_x\", \n",
    "    \"resident_code\", \n",
    "    \"under_18_disposition_code\", \n",
    "    \"clearance_ind\", \n",
    "    \"ff_line_number_x\", \n",
    "    \"age_range_low_num_x\", \n",
    "    \"age_range_high_num_x\", \n",
    "    \"attempt_complete_flag\", \n",
    "    \"num_premises_entered\", \n",
    "    \"method_entry_code\", \n",
    "    \"ff_line_number_y\", \n",
    "    \"offender_seq_num\", \n",
    "    \"age_id_y\", \n",
    "    \"age_num_y\", \n",
    "    \"ff_line_number\", \n",
    "    \"age_range_low_num_y\", \n",
    "    \"age_range_high_num_y\"], axis=1)\n",
    "\n",
    "Crime_Data_2015.head()"
   ]
  },
  {
   "cell_type": "code",
   "execution_count": 28,
   "id": "f25fd694",
   "metadata": {},
   "outputs": [],
   "source": [
    "Crime_Data_2015.to_csv(\"Data_Ref_2015.csv\", index=False)"
   ]
  },
  {
   "cell_type": "code",
   "execution_count": null,
   "id": "192f25f8",
   "metadata": {},
   "outputs": [],
   "source": []
  }
 ],
 "metadata": {
  "kernelspec": {
   "display_name": "Python 3 (ipykernel)",
   "language": "python",
   "name": "python3"
  },
  "language_info": {
   "codemirror_mode": {
    "name": "ipython",
    "version": 3
   },
   "file_extension": ".py",
   "mimetype": "text/x-python",
   "name": "python",
   "nbconvert_exporter": "python",
   "pygments_lexer": "ipython3",
   "version": "3.10.13"
  }
 },
 "nbformat": 4,
 "nbformat_minor": 5
}
