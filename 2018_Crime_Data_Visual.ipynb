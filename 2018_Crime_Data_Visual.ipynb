{
 "cells": [
  {
   "cell_type": "code",
   "execution_count": 1,
   "id": "cc916204",
   "metadata": {},
   "outputs": [],
   "source": [
    "%matplotlib notebook"
   ]
  },
  {
   "cell_type": "code",
   "execution_count": 2,
   "id": "2b38bef9",
   "metadata": {},
   "outputs": [],
   "source": [
    "# Dependencies.\n",
    "import pandas as pd\n",
    "from pathlib import Path\n",
    "import matplotlib.pyplot as plt\n",
    "import scipy.stats as st\n",
    "import numpy as np"
   ]
  },
  {
   "cell_type": "code",
   "execution_count": 3,
   "id": "4be9a5e5",
   "metadata": {},
   "outputs": [],
   "source": [
    "csv_path = Path(\"Data_Ref_2018.csv\")"
   ]
  },
  {
   "cell_type": "code",
   "execution_count": 4,
   "id": "fa8af578",
   "metadata": {},
   "outputs": [],
   "source": [
    "CD = pd.read_csv(csv_path)"
   ]
  },
  {
   "cell_type": "code",
   "execution_count": 5,
   "id": "c5ca2a7f",
   "metadata": {},
   "outputs": [
    {
     "data": {
      "text/plain": [
       "461161"
      ]
     },
     "execution_count": 5,
     "metadata": {},
     "output_type": "execute_result"
    }
   ],
   "source": [
    "# Isolate number of unique incident ID's for reference.\n",
    "Incidents = len(CD[\"INCIDENT_ID\"].unique())\n",
    "Incidents"
   ]
  },
  {
   "cell_type": "code",
   "execution_count": 6,
   "id": "d70ff293",
   "metadata": {},
   "outputs": [
    {
     "data": {
      "text/plain": [
       "527986"
      ]
     },
     "execution_count": 6,
     "metadata": {},
     "output_type": "execute_result"
    }
   ],
   "source": [
    "Offenses = len(CD[\"OFFENSE_ID\"].unique())\n",
    "Offenses"
   ]
  },
  {
   "cell_type": "code",
   "execution_count": 7,
   "id": "277d9a9f",
   "metadata": {},
   "outputs": [
    {
     "data": {
      "text/plain": [
       "RACE\n",
       "White                                        327807\n",
       "Black or African American                    238534\n",
       "Unknown                                      170712\n",
       "Asian                                          1962\n",
       "American Indian or Alaska Native                723\n",
       "Native Hawaiian or Other Pacific Islander       334\n",
       "Name: count, dtype: int64"
      ]
     },
     "execution_count": 7,
     "metadata": {},
     "output_type": "execute_result"
    }
   ],
   "source": [
    "Race = CD[\"RACE\"].value_counts()\n",
    "Race"
   ]
  },
  {
   "cell_type": "code",
   "execution_count": 8,
   "id": "7ad0322d",
   "metadata": {},
   "outputs": [
    {
     "data": {
      "text/plain": [
       "SEX_CODE_y\n",
       "M    395638\n",
       "F    181318\n",
       "U    105066\n",
       "Name: count, dtype: int64"
      ]
     },
     "execution_count": 8,
     "metadata": {},
     "output_type": "execute_result"
    }
   ],
   "source": [
    "Sex = CD[\"SEX_CODE_y\"].value_counts()\n",
    "Sex"
   ]
  },
  {
   "cell_type": "code",
   "execution_count": 9,
   "id": "2fd019f9",
   "metadata": {},
   "outputs": [
    {
     "data": {
      "text/plain": [
       "LOCATION_NAME\n",
       "Residence/Home                                   302293\n",
       "Highway/Road/Alley/Street/Sidewalk               128842\n",
       "Parking/Drop Lot/Garage                           79045\n",
       "Department/Discount Store                         48974\n",
       "Convenience Store                                 24767\n",
       "Other/Unknown                                     17417\n",
       "Hotel/Motel/Etc.                                  15887\n",
       "Grocery/Supermarket                               14593\n",
       "Specialty Store                                   13665\n",
       "School-Elementary/Secondary                       13166\n",
       "Restaurant                                        11711\n",
       "Commercial/Office Building                         7915\n",
       "Service/Gas Station                                6947\n",
       "Bank/Savings and Loan                              6324\n",
       "Drug Store/Doctor's Office/Hospital                5576\n",
       "Jail/Prison/Penitentiary/Corrections Facility      5079\n",
       "Park/Playground                                    4575\n",
       "Government/Public Building                         3784\n",
       "Bar/Nightclub                                      3417\n",
       "Field/Woods                                        3358\n",
       "Shopping Mall                                      2485\n",
       "School-College/University                          2454\n",
       "Church/Synagogue/Temple/Mosque                     2448\n",
       "Construction Site                                  2436\n",
       "Rental Storage Facility                            2246\n",
       "Auto Dealership New/Used                           2022\n",
       "Air/Bus/Train Terminal                             1050\n",
       "ATM Separate from Bank                              927\n",
       "Liquor Store                                        865\n",
       "Industrial Site                                     824\n",
       "Abandoned/Condemned Structure                       654\n",
       "Lake/Waterway/Beach                                 650\n",
       "Farm Facility                                       628\n",
       "Camp/Campground                                     624\n",
       "Arena/Stadium/Fairgrounds/Coliseum                  541\n",
       "Dock/Wharf/Freight/Modal Terminal                   403\n",
       "Amusement Park                                      389\n",
       "Community Center                                    346\n",
       "Daycare Facility                                    303\n",
       "Shelter-Mission/Homeless                            277\n",
       "Rest Area                                            78\n",
       "Military Installation                                36\n",
       "Gambling Facility/Casino/Race Track                  28\n",
       "School/College                                       21\n",
       "Tribal Lands                                          2\n",
       "Name: count, dtype: int64"
      ]
     },
     "execution_count": 9,
     "metadata": {},
     "output_type": "execute_result"
    }
   ],
   "source": [
    "Location = CD[\"LOCATION_NAME\"].value_counts()\n",
    "Location"
   ]
  },
  {
   "cell_type": "code",
   "execution_count": 10,
   "id": "cf8a4ae6",
   "metadata": {},
   "outputs": [
    {
     "data": {
      "text/plain": [
       "OFFENSE_TYPE\n",
       "Drug/Narcotic Offenses                      179401\n",
       "Larceny/Theft Offenses                      177713\n",
       "Assault Offenses                            148783\n",
       "Destruction/Damage/Vandalism of Property     57159\n",
       "Burglary/Breaking & Entering                 41651\n",
       "Fraud Offenses                               36789\n",
       "Motor Vehicle Theft                          26387\n",
       "Weapon Law Violations                        24441\n",
       "Robbery                                      15553\n",
       "Counterfeiting/Forgery                        9954\n",
       "Sex Offenses                                  5951\n",
       "Stolen Property Offenses                      4906\n",
       "Embezzlement                                  3233\n",
       "Kidnapping/Abduction                          2056\n",
       "Pornography/Obscene Material                  1224\n",
       "Arson                                         1003\n",
       "Prostitution Offenses                          967\n",
       "Homicide Offenses                              946\n",
       "Animal Cruelty                                 568\n",
       "Extortion/Blackmail                            470\n",
       "Sex Offenses, Non-forcible                     427\n",
       "Gambling Offenses                              418\n",
       "Human Trafficking                               47\n",
       "Bribery                                         25\n",
       "Name: count, dtype: int64"
      ]
     },
     "execution_count": 10,
     "metadata": {},
     "output_type": "execute_result"
    }
   ],
   "source": [
    "Offense = CD[\"OFFENSE_TYPE\"].value_counts()\n",
    "Offense"
   ]
  },
  {
   "cell_type": "code",
   "execution_count": null,
   "id": "e32992fd",
   "metadata": {},
   "outputs": [],
   "source": []
  },
  {
   "cell_type": "code",
   "execution_count": null,
   "id": "967ac8ec",
   "metadata": {},
   "outputs": [],
   "source": []
  }
 ],
 "metadata": {
  "kernelspec": {
   "display_name": "Python 3 (ipykernel)",
   "language": "python",
   "name": "python3"
  },
  "language_info": {
   "codemirror_mode": {
    "name": "ipython",
    "version": 3
   },
   "file_extension": ".py",
   "mimetype": "text/x-python",
   "name": "python",
   "nbconvert_exporter": "python",
   "pygments_lexer": "ipython3",
   "version": "3.10.13"
  }
 },
 "nbformat": 4,
 "nbformat_minor": 5
}
